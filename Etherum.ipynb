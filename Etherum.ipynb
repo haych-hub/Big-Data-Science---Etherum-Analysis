{
  "nbformat": 4,
  "nbformat_minor": 0,
  "metadata": {
    "colab": {
      "name": "Untitled1.ipynb",
      "provenance": []
    },
    "kernelspec": {
      "name": "python3",
      "display_name": "Python 3"
    }
  },
  "cells": [
    {
      "cell_type": "code",
      "metadata": {
        "id": "3v9SFy1G7Z10"
      },
      "source": [
        "import pandas as pd\n",
        "import numpy as np\n",
        "import matplotlib.pyplot as plt\n",
        "import time \n",
        "import datetime "
      ],
      "execution_count": 1,
      "outputs": []
    },
    {
      "cell_type": "code",
      "metadata": {
        "colab": {
          "base_uri": "https://localhost:8080/"
        },
        "id": "e-VpmnGt8c-d",
        "outputId": "d85ea6e4-0c96-4b05-8048-ed0fd68b94d5"
      },
      "source": [
        "!pip install pyspark\n",
        "from pyspark.sql import SparkSession\n",
        "spark = SparkSession.builder.getOrCreate()\n"
      ],
      "execution_count": 2,
      "outputs": [
        {
          "output_type": "stream",
          "text": [
            "Collecting pyspark\n",
            "\u001b[?25l  Downloading https://files.pythonhosted.org/packages/f0/26/198fc8c0b98580f617cb03cb298c6056587b8f0447e20fa40c5b634ced77/pyspark-3.0.1.tar.gz (204.2MB)\n",
            "\u001b[K     |████████████████████████████████| 204.2MB 64kB/s \n",
            "\u001b[?25hCollecting py4j==0.10.9\n",
            "\u001b[?25l  Downloading https://files.pythonhosted.org/packages/9e/b6/6a4fb90cd235dc8e265a6a2067f2a2c99f0d91787f06aca4bcf7c23f3f80/py4j-0.10.9-py2.py3-none-any.whl (198kB)\n",
            "\u001b[K     |████████████████████████████████| 204kB 31.5MB/s \n",
            "\u001b[?25hBuilding wheels for collected packages: pyspark\n",
            "  Building wheel for pyspark (setup.py) ... \u001b[?25l\u001b[?25hdone\n",
            "  Created wheel for pyspark: filename=pyspark-3.0.1-py2.py3-none-any.whl size=204612243 sha256=6c6b414d2732fc0853d264236f1cbd3e425b749b70804588db2253730797d556\n",
            "  Stored in directory: /root/.cache/pip/wheels/5e/bd/07/031766ca628adec8435bb40f0bd83bb676ce65ff4007f8e73f\n",
            "Successfully built pyspark\n",
            "Installing collected packages: py4j, pyspark\n",
            "Successfully installed py4j-0.10.9 pyspark-3.0.1\n"
          ],
          "name": "stdout"
        }
      ]
    },
    {
      "cell_type": "code",
      "metadata": {
        "colab": {
          "resources": {
            "http://localhost:8080/nbextensions/google.colab/files.js": {
              "data": "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",
              "ok": true,
              "headers": [
                [
                  "content-type",
                  "application/javascript"
                ]
              ],
              "status": 200,
              "status_text": ""
            }
          },
          "base_uri": "https://localhost:8080/",
          "height": 72
        },
        "id": "MBMz5JdXXQQI",
        "outputId": "b898f4e2-2c3a-44a9-d592-c47edfdf8d4e"
      },
      "source": [
        "from google.colab import files\r\n",
        "uploaded = files.upload()"
      ],
      "execution_count": 7,
      "outputs": [
        {
          "output_type": "display_data",
          "data": {
            "text/html": [
              "\n",
              "     <input type=\"file\" id=\"files-b76d39c4-7820-4a57-87b5-9d0622618644\" name=\"files[]\" multiple disabled\n",
              "        style=\"border:none\" />\n",
              "     <output id=\"result-b76d39c4-7820-4a57-87b5-9d0622618644\">\n",
              "      Upload widget is only available when the cell has been executed in the\n",
              "      current browser session. Please rerun this cell to enable.\n",
              "      </output>\n",
              "      <script src=\"/nbextensions/google.colab/files.js\"></script> "
            ],
            "text/plain": [
              "<IPython.core.display.HTML object>"
            ]
          },
          "metadata": {
            "tags": []
          }
        },
        {
          "output_type": "stream",
          "text": [
            "Saving ethereum_csv.csv to ethereum_csv.csv\n"
          ],
          "name": "stdout"
        }
      ]
    },
    {
      "cell_type": "code",
      "metadata": {
        "id": "Bj8iA3c7Xmks"
      },
      "source": [
        "import io"
      ],
      "execution_count": 9,
      "outputs": []
    },
    {
      "cell_type": "code",
      "metadata": {
        "id": "2VhGcYppXr3S"
      },
      "source": [
        ""
      ],
      "execution_count": null,
      "outputs": []
    },
    {
      "cell_type": "code",
      "metadata": {
        "id": "oI9-HSts92Me"
      },
      "source": [
        "data = spark.read.csv(\"ethereum_csv.csv\",header=True, inferSchema=True)"
      ],
      "execution_count": 11,
      "outputs": []
    },
    {
      "cell_type": "code",
      "metadata": {
        "colab": {
          "base_uri": "https://localhost:8080/"
        },
        "id": "QlNKyXVw8tZk",
        "outputId": "fdbec843-65f8-4150-c94d-1abd39319d59"
      },
      "source": [
        "data.show()"
      ],
      "execution_count": 15,
      "outputs": [
        {
          "output_type": "stream",
          "text": [
            "+----------+---------------+---------------------+-------+--------------+----------+-------------------+--------------+-------------+---------------+------------------+----------------+-----------------+------------+---------+----------+\n",
            "|      date|  txVolume(USD)|adjustedTxVolume(USD)|txCount|marketcap(USD)|price(USD)|exchangeVolume(USD)|generatedCoins|         fees|activeAddresses|medianTxValue(USD)|       medianFee|averageDifficulty|paymentCount|blockSize|blockCount|\n",
            "+----------+---------------+---------------------+-------+--------------+----------+-------------------+--------------+-------------+---------------+------------------+----------------+-----------------+------------+---------+----------+\n",
            "|2015-07-30|           null|                 null|   null|          null|      null|               null|   39311.09375|         null|           null|              null|            null| 1.21335493201E11|        null|  4449897|      6911|\n",
            "|2015-07-31|           null|                 null|   null|          null|      null|               null|   36191.71875|         null|           null|              null|            null| 6.02941851594E11|        null|  3994458|      6863|\n",
            "|2015-08-01|           null|                 null|   null|          null|      null|               null|    27702.1875|         null|           null|              null|            null| 8.87254173531E11|        null|  3044344|      5293|\n",
            "|2015-08-02|           null|                 null|   null|          null|      null|               null|    28227.1875|         null|           null|              null|            null| 1.02025370755E12|        null|  3112348|      5358|\n",
            "|2015-08-03|           null|                 null|   null|          null|      null|               null|   27976.71875|         null|           null|              null|            null| 1.12583735885E12|        null|  3099953|      5280|\n",
            "|2015-08-04|           null|                 null|   null|          null|      null|               null|    28478.4375|         null|           null|              null|            null| 1.21658734457E12|        null|  3150854|      5368|\n",
            "|2015-08-05|           null|                 null|   null|          null|      null|               null|   27528.59375|         null|           null|              null|            null| 1.32783785749E12|        null|  3030780|      5235|\n",
            "|2015-08-06|           null|                 null|   null|          null|      null|               null|   27075.46875|         null|           null|              null|            null| 1.38084636225E12|        null|  2986060|      5116|\n",
            "|2015-08-07|  5684487.22712|        5684487.22712|   2050|           0.0|      2.83|           164329.0|   27437.65625|37.3184135113|           1086|     41.6117128722|0.00132077886624| 1.47083865066E12|        1977|  3282693|      5189|\n",
            "|2015-08-08|3.78996817885E7|      3.78996817885E7|   2881|  1.67911008E8|      2.79|           674188.0|    27943.4375|68.0999700719|            826|             0.279|0.00124319442967| 1.58612352894E12|        1973|  3508878|      5256|\n",
            "|2015-08-09|  823605.517746|        823605.517746|   1329|     4.26376E7|  0.706136|           532170.0|   27178.28125|14.0989497032|            732|           7.06136|0.00122301053332| 1.70947978748E12|        1213|  3167541|      5123|\n",
            "|2015-08-10|   1194050.4877|         1194050.4877|   2037|       4.313E7|  0.713989|           405283.0|   27817.34375|31.1651444384|           1001|    0.359784483416|0.00122826248427| 1.83769576327E12|        1451|  3316883|      5255|\n",
            "|2015-08-11|  1053129.87257|        1053129.87257|   4963|     4.27965E7|  0.708087|          1463100.0|    28027.8125| 11.311448586|           2342|   0.0340063030272|0.00121796486677|  2.0363907975E12|        3029|  3653834|      5280|\n",
            "|2015-08-12|  797474.189141|        797474.189141|   2036|     6.40184E7|      1.06|          2150620.0|    27370.9375|32.5869924044|            906|     7.63496196467|0.00124406951189| 2.20707974229E12|        1479|  3348157|      5124|\n",
            "|2015-08-13|  2182919.67454|        2182919.67454|   2842|     7.39354E7|      1.22|          4068680.0|     28268.125|24.9291691099|           1274|      9.9475637699|0.00121009572004| 2.33697970806E12|        2486|  3519008|      5286|\n",
            "|2015-08-14|  4162001.56084|        4162001.56084|   3174|     1.09594E8|      1.81|          4637030.0|   31106.71875|14.3548341128|           1594|     18.7501433743|0.00121011072806| 2.67125315047E12|        3015|  3832496|      5809|\n",
            "|2015-08-15|1.39024105328E7|      1.39024105328E7|   2284|      1.0916E8|       1.8|          2554360.0|   28512.65625|8.83659302805|           1313|              18.0|0.00120976066167| 3.37802842587E12|        2170|  3435520|      5382|\n",
            "|2015-08-16|  2898479.71124|        2898479.71124|   2440|     1.02028E8|      1.68|          3550790.0|   27094.53125|6.67723792491|           1202|     12.0070294226|0.00120780126594| 3.63163214444E12|        2340|  3287835|      5132|\n",
            "|2015-08-17|  5383055.46816|        5383055.46816|   2512|   9.5819696E7|      1.58|          1942830.0|   28118.90625|7.64281183963|           1249|     11.6983602752|0.00121022797205| 3.90802403525E12|        2410|  3393782|      5347|\n",
            "|2015-08-18|  2409105.86945|        2409105.86945|   2494|     8.81432E7|      1.22|          1485680.0|    26162.8125|11.9060713402|           1294|     7.82349246966|0.00120569277268| 4.37769472537E12|        2324|  3208720|      4948|\n",
            "+----------+---------------+---------------------+-------+--------------+----------+-------------------+--------------+-------------+---------------+------------------+----------------+-----------------+------------+---------+----------+\n",
            "only showing top 20 rows\n",
            "\n"
          ],
          "name": "stdout"
        }
      ]
    },
    {
      "cell_type": "code",
      "metadata": {
        "id": "Tjpiv666X28m"
      },
      "source": [
        "df1 = data.dropna()"
      ],
      "execution_count": 18,
      "outputs": []
    },
    {
      "cell_type": "code",
      "metadata": {
        "colab": {
          "base_uri": "https://localhost:8080/"
        },
        "id": "QUGRJMHUYY1p",
        "outputId": "7f4fecc5-17e5-4a27-b657-b672cb3324fb"
      },
      "source": [
        "df1.show()"
      ],
      "execution_count": 19,
      "outputs": [
        {
          "output_type": "stream",
          "text": [
            "+----------+---------------+---------------------+-------+--------------+----------+-------------------+--------------+-------------+---------------+------------------+----------------+-----------------+------------+---------+----------+\n",
            "|      date|  txVolume(USD)|adjustedTxVolume(USD)|txCount|marketcap(USD)|price(USD)|exchangeVolume(USD)|generatedCoins|         fees|activeAddresses|medianTxValue(USD)|       medianFee|averageDifficulty|paymentCount|blockSize|blockCount|\n",
            "+----------+---------------+---------------------+-------+--------------+----------+-------------------+--------------+-------------+---------------+------------------+----------------+-----------------+------------+---------+----------+\n",
            "|2015-08-07|  5684487.22712|        5684487.22712|   2050|           0.0|      2.83|           164329.0|   27437.65625|37.3184135113|           1086|     41.6117128722|0.00132077886624| 1.47083865066E12|        1977|  3282693|      5189|\n",
            "|2015-08-08|3.78996817885E7|      3.78996817885E7|   2881|  1.67911008E8|      2.79|           674188.0|    27943.4375|68.0999700719|            826|             0.279|0.00124319442967| 1.58612352894E12|        1973|  3508878|      5256|\n",
            "|2015-08-09|  823605.517746|        823605.517746|   1329|     4.26376E7|  0.706136|           532170.0|   27178.28125|14.0989497032|            732|           7.06136|0.00122301053332| 1.70947978748E12|        1213|  3167541|      5123|\n",
            "|2015-08-10|   1194050.4877|         1194050.4877|   2037|       4.313E7|  0.713989|           405283.0|   27817.34375|31.1651444384|           1001|    0.359784483416|0.00122826248427| 1.83769576327E12|        1451|  3316883|      5255|\n",
            "|2015-08-11|  1053129.87257|        1053129.87257|   4963|     4.27965E7|  0.708087|          1463100.0|    28027.8125| 11.311448586|           2342|   0.0340063030272|0.00121796486677|  2.0363907975E12|        3029|  3653834|      5280|\n",
            "|2015-08-12|  797474.189141|        797474.189141|   2036|     6.40184E7|      1.06|          2150620.0|    27370.9375|32.5869924044|            906|     7.63496196467|0.00124406951189| 2.20707974229E12|        1479|  3348157|      5124|\n",
            "|2015-08-13|  2182919.67454|        2182919.67454|   2842|     7.39354E7|      1.22|          4068680.0|     28268.125|24.9291691099|           1274|      9.9475637699|0.00121009572004| 2.33697970806E12|        2486|  3519008|      5286|\n",
            "|2015-08-14|  4162001.56084|        4162001.56084|   3174|     1.09594E8|      1.81|          4637030.0|   31106.71875|14.3548341128|           1594|     18.7501433743|0.00121011072806| 2.67125315047E12|        3015|  3832496|      5809|\n",
            "|2015-08-15|1.39024105328E7|      1.39024105328E7|   2284|      1.0916E8|       1.8|          2554360.0|   28512.65625|8.83659302805|           1313|              18.0|0.00120976066167| 3.37802842587E12|        2170|  3435520|      5382|\n",
            "|2015-08-16|  2898479.71124|        2898479.71124|   2440|     1.02028E8|      1.68|          3550790.0|   27094.53125|6.67723792491|           1202|     12.0070294226|0.00120780126594| 3.63163214444E12|        2340|  3287835|      5132|\n",
            "|2015-08-17|  5383055.46816|        5383055.46816|   2512|   9.5819696E7|      1.58|          1942830.0|   28118.90625|7.64281183963|           1249|     11.6983602752|0.00121022797205| 3.90802403525E12|        2410|  3393782|      5347|\n",
            "|2015-08-18|  2409105.86945|        2409105.86945|   2494|     8.81432E7|      1.22|          1485680.0|    26162.8125|11.9060713402|           1294|     7.82349246966|0.00120569277268| 4.37769472537E12|        2324|  3208720|      4948|\n",
            "|2015-08-19|  1691424.30403|        1691424.30403|   3246|   8.4663904E7|      1.17|          1486240.0|   27282.03125|15.4309506695|           1350|     6.21243964549|0.00121403885822| 4.41957302182E12|        3147|  3392043|      5192|\n",
            "|2015-08-20|  592806.204465|        592806.204465|   2303|      9.0809E7|      1.25|          2843760.0|   21057.03125|6.85556694271|           1167|      6.2484370625|0.00118448776127| 4.46910943185E12|        2184|  2615975|      4024|\n",
            "|2015-08-21|  894127.676986|        894127.676986|   3919|     1.07266E8|      1.48|          2020970.0|    26690.9375|7.85504172471|           1425|               7.4|         0.00105| 4.41525264365E12|        3809|  3396674|      5088|\n",
            "|2015-08-22|  874020.858748|        874020.858748|   3579|     1.01404E8|       1.4|           948310.0|   27550.46875|42.5471718296|           1414|       5.797294888|0.00115196162067|  4.8283409979E12|        3455|  3415807|      5271|\n",
            "|2015-08-23|  697311.417317|        697311.417317|   4190|   9.9894496E7|      1.38|          1589300.0|     26255.625| 8.0497676729|           1570|     5.13557213206|         0.00105| 5.13835107567E12|        4025|  3411809|      5013|\n",
            "|2015-08-24|  630283.148711|        630283.148711|   4432|     9.77916E7|      1.35|           924920.0|   27333.28125| 8.8762854198|           1436|     4.03554478099|         0.00105| 5.17911888269E12|        4374|  3486486|      5184|\n",
            "|2015-08-25|  505362.445352|        505362.445352|   4487|   8.9321904E7|      1.23|          1307180.0|   26736.09375|8.25975582511|           1580|      4.1966506161|         0.00105| 5.17328767322E12|        4296|  3464583|      5097|\n",
            "|2015-08-26|   508937.45783|         508937.45783|   4156|     8.23844E7|      1.13|          1056750.0|   26137.96875|7.44772927856|           1527|     3.15800381357|         0.00105| 5.58730409173E12|        4040|  3345268|      5003|\n",
            "+----------+---------------+---------------------+-------+--------------+----------+-------------------+--------------+-------------+---------------+------------------+----------------+-----------------+------------+---------+----------+\n",
            "only showing top 20 rows\n",
            "\n"
          ],
          "name": "stdout"
        }
      ]
    },
    {
      "cell_type": "code",
      "metadata": {
        "id": "I9GJUsq2_VoW"
      },
      "source": [
        "feature_columns = data.columns[1:-1] # here we omit the final column\n",
        "from pyspark.ml.feature import VectorAssembler\n",
        "assembler = VectorAssembler(inputCols=feature_columns,outputCol=\"features\")"
      ],
      "execution_count": 26,
      "outputs": []
    },
    {
      "cell_type": "code",
      "metadata": {
        "id": "h8bngc2F_ejG"
      },
      "source": [
        "from pyspark.sql.functions import col, unix_timestamp, to_date,to_timestamp\n",
        "\n",
        "\n",
        "df1 = df1.withColumn('date', to_timestamp(unix_timestamp(col('date'), 'yyyy-MM-dd').cast(\"timestamp\")))\n"
      ],
      "execution_count": 27,
      "outputs": []
    },
    {
      "cell_type": "code",
      "metadata": {
        "id": "LwgATaJrDuC_"
      },
      "source": [
        "df1 = df1.withColumn('date', (unix_timestamp(col('date'), 'yyyy-MM-dd').cast(\"int\")))"
      ],
      "execution_count": 28,
      "outputs": []
    },
    {
      "cell_type": "code",
      "metadata": {
        "colab": {
          "base_uri": "https://localhost:8080/"
        },
        "id": "avS94egOD80t",
        "outputId": "6b9a3e97-dca0-4fdb-880a-4482ae70e507"
      },
      "source": [
        "df1.show()"
      ],
      "execution_count": 29,
      "outputs": [
        {
          "output_type": "stream",
          "text": [
            "+----------+---------------+---------------------+-------+--------------+----------+-------------------+--------------+-------------+---------------+------------------+----------------+-----------------+------------+---------+----------+\n",
            "|      date|  txVolume(USD)|adjustedTxVolume(USD)|txCount|marketcap(USD)|price(USD)|exchangeVolume(USD)|generatedCoins|         fees|activeAddresses|medianTxValue(USD)|       medianFee|averageDifficulty|paymentCount|blockSize|blockCount|\n",
            "+----------+---------------+---------------------+-------+--------------+----------+-------------------+--------------+-------------+---------------+------------------+----------------+-----------------+------------+---------+----------+\n",
            "|1438905600|  5684487.22712|        5684487.22712|   2050|           0.0|      2.83|           164329.0|   27437.65625|37.3184135113|           1086|     41.6117128722|0.00132077886624| 1.47083865066E12|        1977|  3282693|      5189|\n",
            "|1438992000|3.78996817885E7|      3.78996817885E7|   2881|  1.67911008E8|      2.79|           674188.0|    27943.4375|68.0999700719|            826|             0.279|0.00124319442967| 1.58612352894E12|        1973|  3508878|      5256|\n",
            "|1439078400|  823605.517746|        823605.517746|   1329|     4.26376E7|  0.706136|           532170.0|   27178.28125|14.0989497032|            732|           7.06136|0.00122301053332| 1.70947978748E12|        1213|  3167541|      5123|\n",
            "|1439164800|   1194050.4877|         1194050.4877|   2037|       4.313E7|  0.713989|           405283.0|   27817.34375|31.1651444384|           1001|    0.359784483416|0.00122826248427| 1.83769576327E12|        1451|  3316883|      5255|\n",
            "|1439251200|  1053129.87257|        1053129.87257|   4963|     4.27965E7|  0.708087|          1463100.0|    28027.8125| 11.311448586|           2342|   0.0340063030272|0.00121796486677|  2.0363907975E12|        3029|  3653834|      5280|\n",
            "|1439337600|  797474.189141|        797474.189141|   2036|     6.40184E7|      1.06|          2150620.0|    27370.9375|32.5869924044|            906|     7.63496196467|0.00124406951189| 2.20707974229E12|        1479|  3348157|      5124|\n",
            "|1439424000|  2182919.67454|        2182919.67454|   2842|     7.39354E7|      1.22|          4068680.0|     28268.125|24.9291691099|           1274|      9.9475637699|0.00121009572004| 2.33697970806E12|        2486|  3519008|      5286|\n",
            "|1439510400|  4162001.56084|        4162001.56084|   3174|     1.09594E8|      1.81|          4637030.0|   31106.71875|14.3548341128|           1594|     18.7501433743|0.00121011072806| 2.67125315047E12|        3015|  3832496|      5809|\n",
            "|1439596800|1.39024105328E7|      1.39024105328E7|   2284|      1.0916E8|       1.8|          2554360.0|   28512.65625|8.83659302805|           1313|              18.0|0.00120976066167| 3.37802842587E12|        2170|  3435520|      5382|\n",
            "|1439683200|  2898479.71124|        2898479.71124|   2440|     1.02028E8|      1.68|          3550790.0|   27094.53125|6.67723792491|           1202|     12.0070294226|0.00120780126594| 3.63163214444E12|        2340|  3287835|      5132|\n",
            "|1439769600|  5383055.46816|        5383055.46816|   2512|   9.5819696E7|      1.58|          1942830.0|   28118.90625|7.64281183963|           1249|     11.6983602752|0.00121022797205| 3.90802403525E12|        2410|  3393782|      5347|\n",
            "|1439856000|  2409105.86945|        2409105.86945|   2494|     8.81432E7|      1.22|          1485680.0|    26162.8125|11.9060713402|           1294|     7.82349246966|0.00120569277268| 4.37769472537E12|        2324|  3208720|      4948|\n",
            "|1439942400|  1691424.30403|        1691424.30403|   3246|   8.4663904E7|      1.17|          1486240.0|   27282.03125|15.4309506695|           1350|     6.21243964549|0.00121403885822| 4.41957302182E12|        3147|  3392043|      5192|\n",
            "|1440028800|  592806.204465|        592806.204465|   2303|      9.0809E7|      1.25|          2843760.0|   21057.03125|6.85556694271|           1167|      6.2484370625|0.00118448776127| 4.46910943185E12|        2184|  2615975|      4024|\n",
            "|1440115200|  894127.676986|        894127.676986|   3919|     1.07266E8|      1.48|          2020970.0|    26690.9375|7.85504172471|           1425|               7.4|         0.00105| 4.41525264365E12|        3809|  3396674|      5088|\n",
            "|1440201600|  874020.858748|        874020.858748|   3579|     1.01404E8|       1.4|           948310.0|   27550.46875|42.5471718296|           1414|       5.797294888|0.00115196162067|  4.8283409979E12|        3455|  3415807|      5271|\n",
            "|1440288000|  697311.417317|        697311.417317|   4190|   9.9894496E7|      1.38|          1589300.0|     26255.625| 8.0497676729|           1570|     5.13557213206|         0.00105| 5.13835107567E12|        4025|  3411809|      5013|\n",
            "|1440374400|  630283.148711|        630283.148711|   4432|     9.77916E7|      1.35|           924920.0|   27333.28125| 8.8762854198|           1436|     4.03554478099|         0.00105| 5.17911888269E12|        4374|  3486486|      5184|\n",
            "|1440460800|  505362.445352|        505362.445352|   4487|   8.9321904E7|      1.23|          1307180.0|   26736.09375|8.25975582511|           1580|      4.1966506161|         0.00105| 5.17328767322E12|        4296|  3464583|      5097|\n",
            "|1440547200|   508937.45783|         508937.45783|   4156|     8.23844E7|      1.13|          1056750.0|   26137.96875|7.44772927856|           1527|     3.15800381357|         0.00105| 5.58730409173E12|        4040|  3345268|      5003|\n",
            "+----------+---------------+---------------------+-------+--------------+----------+-------------------+--------------+-------------+---------------+------------------+----------------+-----------------+------------+---------+----------+\n",
            "only showing top 20 rows\n",
            "\n"
          ],
          "name": "stdout"
        }
      ]
    },
    {
      "cell_type": "code",
      "metadata": {
        "id": "PMp5pE1mDsvU"
      },
      "source": [
        "data_2 = assembler.transform(df1)"
      ],
      "execution_count": 30,
      "outputs": []
    },
    {
      "cell_type": "code",
      "metadata": {
        "id": "bJh3VWCCEgev"
      },
      "source": [
        "train, test = data_2.randomSplit([0.7, 0.3])"
      ],
      "execution_count": 31,
      "outputs": []
    },
    {
      "cell_type": "code",
      "metadata": {
        "id": "zo_a6O_7EscW"
      },
      "source": [
        "from pyspark.ml.regression import LinearRegression\n",
        "algo = LinearRegression(featuresCol=\"features\", labelCol=\"price(USD)\")"
      ],
      "execution_count": 32,
      "outputs": []
    },
    {
      "cell_type": "code",
      "metadata": {
        "id": "LoC3a9hAExQa"
      },
      "source": [
        "model = algo.fit(train)"
      ],
      "execution_count": 33,
      "outputs": []
    },
    {
      "cell_type": "code",
      "metadata": {
        "id": "4ux1atAgHvx8"
      },
      "source": [
        "evaluation_summary = model.evaluate(test)"
      ],
      "execution_count": 34,
      "outputs": []
    },
    {
      "cell_type": "code",
      "metadata": {
        "colab": {
          "base_uri": "https://localhost:8080/"
        },
        "id": "1WvAQnk_H7Ea",
        "outputId": "70b2f933-1791-41ed-8272-27310f475f84"
      },
      "source": [
        "evaluation_summary.meanAbsoluteError"
      ],
      "execution_count": 35,
      "outputs": [
        {
          "output_type": "execute_result",
          "data": {
            "text/plain": [
              "1.3145307132991313e-12"
            ]
          },
          "metadata": {
            "tags": []
          },
          "execution_count": 35
        }
      ]
    },
    {
      "cell_type": "code",
      "metadata": {
        "colab": {
          "base_uri": "https://localhost:8080/"
        },
        "id": "ATKNtdxjH_Q7",
        "outputId": "d74680a3-6149-4f4f-c3d0-c662cc536869"
      },
      "source": [
        "evaluation_summary.rootMeanSquaredError"
      ],
      "execution_count": 36,
      "outputs": [
        {
          "output_type": "execute_result",
          "data": {
            "text/plain": [
              "2.046047940721807e-12"
            ]
          },
          "metadata": {
            "tags": []
          },
          "execution_count": 36
        }
      ]
    },
    {
      "cell_type": "code",
      "metadata": {
        "colab": {
          "base_uri": "https://localhost:8080/"
        },
        "id": "j1Wbl6vTIO6R",
        "outputId": "329497f4-7678-4367-b507-8369629c2775"
      },
      "source": [
        "evaluation_summary.r2"
      ],
      "execution_count": 37,
      "outputs": [
        {
          "output_type": "execute_result",
          "data": {
            "text/plain": [
              "1.0"
            ]
          },
          "metadata": {
            "tags": []
          },
          "execution_count": 37
        }
      ]
    },
    {
      "cell_type": "code",
      "metadata": {
        "id": "pEeM7C48IRUb"
      },
      "source": [
        "predictions = model.transform(test)"
      ],
      "execution_count": 38,
      "outputs": []
    },
    {
      "cell_type": "code",
      "metadata": {
        "colab": {
          "base_uri": "https://localhost:8080/"
        },
        "id": "XH2LJLUeecZH",
        "outputId": "2e196d05-a6f2-47cd-f64f-b4d2670b3814"
      },
      "source": [
        "predictions.select(predictions.columns[13:]).show() # here I am filtering out some columns just for the figure to fit"
      ],
      "execution_count": 39,
      "outputs": [
        {
          "output_type": "stream",
          "text": [
            "+------------+---------+----------+--------------------+-------------------+\n",
            "|paymentCount|blockSize|blockCount|            features|         prediction|\n",
            "+------------+---------+----------+--------------------+-------------------+\n",
            "|        1973|  3508878|      5256|[3.78996817885E7,...| 2.7900000000000515|\n",
            "|        2486|  3519008|      5286|[2182919.67454,21...| 1.2199999999994329|\n",
            "|        3147|  3392043|      5192|[1691424.30403,16...| 1.1699999999992443|\n",
            "|        3809|  3396674|      5088|[894127.676986,89...| 1.4799999999989433|\n",
            "|        4025|  3411809|      5013|[697311.417317,69...| 1.3799999999989223|\n",
            "|        4296|  3464583|      5097|[505362.445352,50...|  1.229999999998985|\n",
            "|        4040|  3345268|      5003|[508937.45783,508...|  1.129999999998905|\n",
            "|        4883|  2740989|      3577|[374923.646468,37...| 1.3499999999977117|\n",
            "|        5094|  3651888|      5003|[249301.081565,24...|  1.209999999998938|\n",
            "|        5247|  3740946|      4851|[252012.348897,25...|  0.940565999998791|\n",
            "|        5679|  3660494|      4956|[523583.14265,523...| 0.9419769999988741|\n",
            "|        5102|  3622311|      4808|[268368.722163,26...| 0.9068649999987428|\n",
            "|        4938|  3730754|      5078|[332401.248822,33...| 0.8496029999990211|\n",
            "|        6194|  3860006|      5210|[425540.887368,42...| 0.7343069999989957|\n",
            "|        6586|  4063481|      5152|[191066.731219,19...| 0.6095009999988731|\n",
            "|        5849|  3795610|      5073|[95953.5974372,95...| 0.6274609999988541|\n",
            "|        6229|  4053860|      5148|[172115.376764,17...| 0.6345149999988883|\n",
            "|        5625|  3842397|      4990|[245668.720604,24...|0.48962899999879866|\n",
            "|        5687|  3984632|      5171|[53939.4236085,53...| 0.5396809999989673|\n",
            "|        5615|  3757017|      4908|[443466.658196,44...| 0.6197429999987856|\n",
            "+------------+---------+----------+--------------------+-------------------+\n",
            "only showing top 20 rows\n",
            "\n"
          ],
          "name": "stdout"
        }
      ]
    },
    {
      "cell_type": "code",
      "metadata": {
        "id": "oO4AYBInfjqN"
      },
      "source": [
        "import pandas as pd\r\n",
        "import numpy as np\r\n",
        "from sklearn import datasets, linear_model\r\n",
        "from sklearn.metrics import accuracy_score\r\n",
        "import matplotlib.pyplot as plt"
      ],
      "execution_count": 40,
      "outputs": []
    },
    {
      "cell_type": "code",
      "metadata": {
        "colab": {
          "resources": {
            "http://localhost:8080/nbextensions/google.colab/files.js": {
              "data": "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",
              "ok": true,
              "headers": [
                [
                  "content-type",
                  "application/javascript"
                ]
              ],
              "status": 200,
              "status_text": ""
            }
          },
          "base_uri": "https://localhost:8080/",
          "height": 72
        },
        "id": "s9cOPUEEgLLw",
        "outputId": "19112a0b-7a15-45ff-aa27-85a4741a19bd"
      },
      "source": [
        "from google.colab import files\r\n",
        "uploaded = files.upload()"
      ],
      "execution_count": 44,
      "outputs": [
        {
          "output_type": "display_data",
          "data": {
            "text/html": [
              "\n",
              "     <input type=\"file\" id=\"files-40208867-3dc9-4761-96d9-30d0dcd8a0ee\" name=\"files[]\" multiple disabled\n",
              "        style=\"border:none\" />\n",
              "     <output id=\"result-40208867-3dc9-4761-96d9-30d0dcd8a0ee\">\n",
              "      Upload widget is only available when the cell has been executed in the\n",
              "      current browser session. Please rerun this cell to enable.\n",
              "      </output>\n",
              "      <script src=\"/nbextensions/google.colab/files.js\"></script> "
            ],
            "text/plain": [
              "<IPython.core.display.HTML object>"
            ]
          },
          "metadata": {
            "tags": []
          }
        },
        {
          "output_type": "stream",
          "text": [
            "Saving ethereumprice.csv to ethereumprice.csv\n"
          ],
          "name": "stdout"
        }
      ]
    },
    {
      "cell_type": "code",
      "metadata": {
        "id": "LpzPCKjgf9bg"
      },
      "source": [
        "df = pd.read_csv(\"ethereumprice.csv\")\r\n",
        "\r\n",
        "msk = np.random.rand(len(df)) < 0.8\r\n",
        "\r\n",
        "X = df[\"open\"]\r\n",
        "Y = df[\"high\"]\r\n",
        "X_train = np.array(X[msk]).reshape(len(X[msk]),1)\r\n",
        "X_test = np.array(X[~msk]).reshape(len(X[~msk]),1)\r\n",
        "Y_train = np.array(Y[msk]).reshape(len(X[msk]),1)\r\n",
        "Y_test = np.array(Y[~msk]).reshape(len(X[~msk]),1)"
      ],
      "execution_count": 51,
      "outputs": []
    },
    {
      "cell_type": "code",
      "metadata": {
        "colab": {
          "base_uri": "https://localhost:8080/",
          "height": 357
        },
        "id": "qv4wXuSqfsAZ",
        "outputId": "d32792bd-cdc5-459d-8d85-c4d7434b7836"
      },
      "source": [
        "clf = linear_model.LinearRegression()\r\n",
        "clf.fit(X_train,Y_train)\r\n",
        "predicted_vals = clf.predict(X_test)"
      ],
      "execution_count": 52,
      "outputs": [
        {
          "output_type": "error",
          "ename": "ValueError",
          "evalue": "ignored",
          "traceback": [
            "\u001b[0;31m---------------------------------------------------------------------------\u001b[0m",
            "\u001b[0;31mValueError\u001b[0m                                Traceback (most recent call last)",
            "\u001b[0;32m<ipython-input-52-648f3a02ef64>\u001b[0m in \u001b[0;36m<module>\u001b[0;34m()\u001b[0m\n\u001b[1;32m      1\u001b[0m \u001b[0mclf\u001b[0m \u001b[0;34m=\u001b[0m \u001b[0mlinear_model\u001b[0m\u001b[0;34m.\u001b[0m\u001b[0mLinearRegression\u001b[0m\u001b[0;34m(\u001b[0m\u001b[0;34m)\u001b[0m\u001b[0;34m\u001b[0m\u001b[0;34m\u001b[0m\u001b[0m\n\u001b[0;32m----> 2\u001b[0;31m \u001b[0mclf\u001b[0m\u001b[0;34m.\u001b[0m\u001b[0mfit\u001b[0m\u001b[0;34m(\u001b[0m\u001b[0mX_train\u001b[0m\u001b[0;34m,\u001b[0m\u001b[0mY_train\u001b[0m\u001b[0;34m)\u001b[0m\u001b[0;34m\u001b[0m\u001b[0;34m\u001b[0m\u001b[0m\n\u001b[0m\u001b[1;32m      3\u001b[0m \u001b[0mpredicted_vals\u001b[0m \u001b[0;34m=\u001b[0m \u001b[0mclf\u001b[0m\u001b[0;34m.\u001b[0m\u001b[0mpredict\u001b[0m\u001b[0;34m(\u001b[0m\u001b[0mX_test\u001b[0m\u001b[0;34m)\u001b[0m\u001b[0;34m\u001b[0m\u001b[0;34m\u001b[0m\u001b[0m\n",
            "\u001b[0;32m/usr/local/lib/python3.6/dist-packages/sklearn/linear_model/_base.py\u001b[0m in \u001b[0;36mfit\u001b[0;34m(self, X, y, sample_weight)\u001b[0m\n\u001b[1;32m    490\u001b[0m         \u001b[0mn_jobs_\u001b[0m \u001b[0;34m=\u001b[0m \u001b[0mself\u001b[0m\u001b[0;34m.\u001b[0m\u001b[0mn_jobs\u001b[0m\u001b[0;34m\u001b[0m\u001b[0;34m\u001b[0m\u001b[0m\n\u001b[1;32m    491\u001b[0m         X, y = check_X_y(X, y, accept_sparse=['csr', 'csc', 'coo'],\n\u001b[0;32m--> 492\u001b[0;31m                          y_numeric=True, multi_output=True)\n\u001b[0m\u001b[1;32m    493\u001b[0m \u001b[0;34m\u001b[0m\u001b[0m\n\u001b[1;32m    494\u001b[0m         \u001b[0;32mif\u001b[0m \u001b[0msample_weight\u001b[0m \u001b[0;32mis\u001b[0m \u001b[0;32mnot\u001b[0m \u001b[0;32mNone\u001b[0m\u001b[0;34m:\u001b[0m\u001b[0;34m\u001b[0m\u001b[0;34m\u001b[0m\u001b[0m\n",
            "\u001b[0;32m/usr/local/lib/python3.6/dist-packages/sklearn/utils/validation.py\u001b[0m in \u001b[0;36mcheck_X_y\u001b[0;34m(X, y, accept_sparse, accept_large_sparse, dtype, order, copy, force_all_finite, ensure_2d, allow_nd, multi_output, ensure_min_samples, ensure_min_features, y_numeric, warn_on_dtype, estimator)\u001b[0m\n\u001b[1;32m    761\u001b[0m         \u001b[0m_assert_all_finite\u001b[0m\u001b[0;34m(\u001b[0m\u001b[0my\u001b[0m\u001b[0;34m)\u001b[0m\u001b[0;34m\u001b[0m\u001b[0;34m\u001b[0m\u001b[0m\n\u001b[1;32m    762\u001b[0m     \u001b[0;32mif\u001b[0m \u001b[0my_numeric\u001b[0m \u001b[0;32mand\u001b[0m \u001b[0my\u001b[0m\u001b[0;34m.\u001b[0m\u001b[0mdtype\u001b[0m\u001b[0;34m.\u001b[0m\u001b[0mkind\u001b[0m \u001b[0;34m==\u001b[0m \u001b[0;34m'O'\u001b[0m\u001b[0;34m:\u001b[0m\u001b[0;34m\u001b[0m\u001b[0;34m\u001b[0m\u001b[0m\n\u001b[0;32m--> 763\u001b[0;31m         \u001b[0my\u001b[0m \u001b[0;34m=\u001b[0m \u001b[0my\u001b[0m\u001b[0;34m.\u001b[0m\u001b[0mastype\u001b[0m\u001b[0;34m(\u001b[0m\u001b[0mnp\u001b[0m\u001b[0;34m.\u001b[0m\u001b[0mfloat64\u001b[0m\u001b[0;34m)\u001b[0m\u001b[0;34m\u001b[0m\u001b[0;34m\u001b[0m\u001b[0m\n\u001b[0m\u001b[1;32m    764\u001b[0m \u001b[0;34m\u001b[0m\u001b[0m\n\u001b[1;32m    765\u001b[0m     \u001b[0mcheck_consistent_length\u001b[0m\u001b[0;34m(\u001b[0m\u001b[0mX\u001b[0m\u001b[0;34m,\u001b[0m \u001b[0my\u001b[0m\u001b[0;34m)\u001b[0m\u001b[0;34m\u001b[0m\u001b[0;34m\u001b[0m\u001b[0m\n",
            "\u001b[0;31mValueError\u001b[0m: could not convert string to float: 'undefined'"
          ]
        }
      ]
    },
    {
      "cell_type": "code",
      "metadata": {
        "id": "u6UR4F6rfju7"
      },
      "source": [
        ""
      ],
      "execution_count": null,
      "outputs": []
    }
  ]
}
